{
 "cells": [
  {
   "cell_type": "markdown",
   "metadata": {},
   "source": [
    "# Introduction to Cloud Machine Learning with Flask API and CNTK\n",
    "\n"
   ]
  },
  {
   "cell_type": "code",
   "execution_count": 1,
   "metadata": {
    "collapsed": false
   },
   "outputs": [
    {
     "name": "stdout",
     "output_type": "stream",
     "text": [
      "System version: 3.5.2 |Continuum Analytics, Inc.| (default, Jul  2 2016, 17:53:06) \n",
      "[GCC 4.4.7 20120313 (Red Hat 4.4.7-1)]\n",
      "Flask version: 0.12\n"
     ]
    }
   ],
   "source": [
    "#load libraries\n",
    "import os,sys\n",
    "import pkg_resources\n",
    "from flask import Flask, render_template, request, send_file\n",
    "%matplotlib inline\n",
    "import matplotlib\n",
    "import matplotlib.pyplot as plt\n",
    "import wget\n",
    "import numpy as np\n",
    "from PIL import Image, ImageOps\n",
    "from urllib.request import urlretrieve\n",
    "from cntk import load_model, combine\n",
    "import mxnet as mx\n",
    "\n",
    "print(\"System version: {}\".format(sys.version))\n",
    "print(\"Flask version: {}\".format(pkg_resources.get_distribution(\"flask\").version))"
   ]
  },
  {
   "cell_type": "code",
   "execution_count": null,
   "metadata": {
    "collapsed": true
   },
   "outputs": [],
   "source": [
    "app = Flask(__name__)"
   ]
  },
  {
   "cell_type": "code",
   "execution_count": null,
   "metadata": {
    "collapsed": false
   },
   "outputs": [],
   "source": [
    "# Open downloaded labels (1000)\n",
    "urlretrieve(\"http://data.mxnet.io/models/imagenet/synset.txt\", \"resnet_152_cntk.txt\")\n",
    "\n",
    "with open('resnet_152_cntk.txt', 'r') as f:\n",
    "    LABELS = [l.rstrip() for l in f]\n",
    "\n",
    "print(\"Label length: \", len(LABELS))\n"
   ]
  },
  {
   "cell_type": "code",
   "execution_count": null,
   "metadata": {
    "collapsed": true
   },
   "outputs": [],
   "source": [
    "def get_image(url):\n",
    "    return urlretrieve(url)[0]"
   ]
  },
  {
   "cell_type": "code",
   "execution_count": null,
   "metadata": {
    "collapsed": true
   },
   "outputs": [],
   "source": [
    "def predict(filename, synsets):\n",
    "    \n",
    "    # Load image and resize    \n",
    "    img = Image.open(filename)\n",
    "    # Centre crop\n",
    "    img = ImageOps.fit(img, (224, 224), Image.ANTIALIAS)\n",
    "    \n",
    "    # Show image\n",
    "    plt.imshow(img)\n",
    "    plt.axis('off')\n",
    "    \n",
    "    # Do we need to subtract mean? Or batch normalisation layer takes cares of this???\n",
    "    \n",
    "    img = np.array(img, dtype=np.float32)\n",
    "    img = np.ascontiguousarray(np.transpose(img, (2, 0, 1)))\n",
    "    \n",
    "    # Use last layer to make prediction\n",
    "    z_out = combine([z.outputs[3].owner])\n",
    "    result = np.squeeze(z_out.eval({z_out.arguments[0]:[img]}))\n",
    "\n",
    "    # Sort probabilities \n",
    "    a = np.argsort(result)[-5:]  \n",
    "    \n",
    "    #predicted_category = \" \".join(synsets[a].split(\" \")[1:])\n",
    "    for pos in a:\n",
    "        predicted_category = \" \".join(synsets[pos].split(\" \")[1:])\n",
    "        print(predicted_category)"
   ]
  },
  {
   "cell_type": "code",
   "execution_count": null,
   "metadata": {
    "collapsed": true
   },
   "outputs": [],
   "source": [
    "# Load CNTK Model\n",
    "model_path = '/datadrive/installer/cntk/Examples/Image/PretrainedModels/ResNet_152.model'\n",
    "z = load_model(model_path)"
   ]
  },
  {
   "cell_type": "code",
   "execution_count": null,
   "metadata": {
    "collapsed": false
   },
   "outputs": [],
   "source": [
    "predict(get_image(\"http://writm.com/wp-content/uploads/2016/08/Cat-hd-wallpapers.jpg\"), LABELS)"
   ]
  },
  {
   "cell_type": "code",
   "execution_count": null,
   "metadata": {
    "collapsed": false
   },
   "outputs": [],
   "source": [
    "predict(get_image(\"https://migonzastorage.blob.core.windows.net/deep-learning/neko.jpg\"), LABELS)"
   ]
  },
  {
   "cell_type": "code",
   "execution_count": null,
   "metadata": {
    "collapsed": false
   },
   "outputs": [],
   "source": [
    "predict(get_image(\"https://upload.wikimedia.org/wikipedia/commons/1/1e/Bald_Eagle_Portrait.jpg\"), LABELS)"
   ]
  },
  {
   "cell_type": "code",
   "execution_count": null,
   "metadata": {
    "collapsed": true
   },
   "outputs": [],
   "source": [
    "def predict(image, n_results, model = 'cntk_resnet152'):\n",
    "    if "
   ]
  },
  {
   "cell_type": "code",
   "execution_count": 13,
   "metadata": {
    "collapsed": false
   },
   "outputs": [],
   "source": [
    "class Model(object):\n",
    "    def __new__(cls, *args, **kwargs):\n",
    "        if cls is Model:                            # <-- required because Line's\n",
    "            base_library, args = args[0], args[1:]   #     __new__ method is the\n",
    "            if base_library == 'mxnet':          #     same as Shape's\n",
    "                new_cls = MXNetModel\n",
    "            else:\n",
    "                raise ValueError(\"Invalid base library: {}.\".format(base_library))\n",
    "        else:\n",
    "            new_cls = cls\n",
    "        return super(Model, cls).__new__(new_cls, *args, **kwargs)\n",
    "    \n",
    "    def get_library(self):\n",
    "        return \"No base library\"\n",
    "\n",
    "class MXNetModel(Model):\n",
    "    def get_library(self):\n",
    "        return \"MXNet\"\n",
    "\n",
    "class OtherModel(Model):\n",
    "    pass"
   ]
  },
  {
   "cell_type": "code",
   "execution_count": 14,
   "metadata": {
    "collapsed": false
   },
   "outputs": [
    {
     "data": {
      "text/plain": [
       "'No base library'"
      ]
     },
     "execution_count": 14,
     "metadata": {},
     "output_type": "execute_result"
    }
   ],
   "source": [
    "mm = OtherModel()\n",
    "mm.get_library()"
   ]
  },
  {
   "cell_type": "code",
   "execution_count": null,
   "metadata": {
    "collapsed": true
   },
   "outputs": [],
   "source": []
  }
 ],
 "metadata": {
  "kernelspec": {
   "display_name": "Python [conda env:cntk-py35]",
   "language": "python",
   "name": "conda-env-cntk-py35-py"
  },
  "language_info": {
   "codemirror_mode": {
    "name": "ipython",
    "version": 3
   },
   "file_extension": ".py",
   "mimetype": "text/x-python",
   "name": "python",
   "nbconvert_exporter": "python",
   "pygments_lexer": "ipython3",
   "version": "3.5.2"
  }
 },
 "nbformat": 4,
 "nbformat_minor": 0
}

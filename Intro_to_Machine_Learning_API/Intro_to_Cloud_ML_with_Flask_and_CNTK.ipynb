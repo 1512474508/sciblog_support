{
 "cells": [
  {
   "cell_type": "markdown",
   "metadata": {
    "deletable": true,
    "editable": true
   },
   "source": [
    "# Introduction to Cloud Machine Learning with Flask API and CNTK\n",
    "\n"
   ]
  },
  {
   "cell_type": "code",
   "execution_count": 26,
   "metadata": {
    "collapsed": false,
    "deletable": true,
    "editable": true
   },
   "outputs": [
    {
     "name": "stdout",
     "output_type": "stream",
     "text": [
      "System version: 3.5.2 |Continuum Analytics, Inc.| (default, Jul  2 2016, 17:53:06) \n",
      "[GCC 4.4.7 20120313 (Red Hat 4.4.7-1)]\n",
      "Flask version: 0.10.1\n",
      "CNTK version: 2.0.beta11.0\n"
     ]
    }
   ],
   "source": [
    "#load libraries\n",
    "import os,sys\n",
    "import pkg_resources\n",
    "from flask import Flask, render_template, request, send_file\n",
    "%matplotlib inline\n",
    "import matplotlib\n",
    "import matplotlib.pyplot as plt\n",
    "import wget\n",
    "import numpy as np\n",
    "from PIL import Image, ImageOps\n",
    "from urllib.request import urlretrieve\n",
    "import requests\n",
    "from cntk import load_model, combine\n",
    "from io import BytesIO, StringIO\n",
    "import base64\n",
    "from IPython.core.display import display, HTML\n",
    "\n",
    "print(\"System version: {}\".format(sys.version))\n",
    "print(\"Flask version: {}\".format(pkg_resources.get_distribution(\"flask\").version))\n",
    "print(\"CNTK version: {}\".format(pkg_resources.get_distribution(\"cntk\").version))"
   ]
  },
  {
   "cell_type": "markdown",
   "metadata": {
    "collapsed": true,
    "deletable": true,
    "editable": true
   },
   "source": [
    "## Image classification with a pretrained CNTK model\n",
    "The model is a ResNet with 18 layers, but there are other models that you can try."
   ]
  },
  {
   "cell_type": "code",
   "execution_count": null,
   "metadata": {
    "collapsed": true,
    "deletable": true,
    "editable": true
   },
   "outputs": [],
   "source": [
    "def maybe_download_model(filename='ResNet_18.model'):\n",
    "    if(os.path.isfile(filename)):\n",
    "        print(\"Model %s already downloaded\" % filename)\n",
    "    else:\n",
    "        model_name_to_url = {\n",
    "        'AlexNet.model':   'https://www.cntk.ai/Models/AlexNet/AlexNet.model',\n",
    "        'AlexNetBS.model': 'https://www.cntk.ai/Models/AlexNet/AlexNetBS.model',\n",
    "        'ResNet_18.model': 'https://www.cntk.ai/Models/ResNet/ResNet_18.model',\n",
    "        'ResNet_152.model': 'https://migonzastorage.blob.core.windows.net/deep-learning/models/cntk/imagenet/ResNet_152.model'\n",
    "        }\n",
    "        url = model_name_to_url[filename] #TODO: try/except in case incorrect filename\n",
    "        wget.download(url)"
   ]
  },
  {
   "cell_type": "code",
   "execution_count": null,
   "metadata": {
    "collapsed": false,
    "deletable": true,
    "editable": true
   },
   "outputs": [],
   "source": [
    "model_name = 'ResNet_152.model'\n",
    "maybe_download_model(model_name)"
   ]
  },
  {
   "cell_type": "code",
   "execution_count": null,
   "metadata": {
    "collapsed": false,
    "deletable": true,
    "editable": true
   },
   "outputs": [],
   "source": [
    "def read_synsets(filename='synsets.txt'):\n",
    "    with open(filename, 'r') as f:\n",
    "        synsets = [l.rstrip() for l in f]\n",
    "        labels = [\" \".join(l.split(\" \")[1:]) for l in synsets]\n",
    "    return labels\n",
    "\n",
    "labels = read_synsets()\n",
    "print(\"Label length: \", len(labels))\n"
   ]
  },
  {
   "cell_type": "markdown",
   "metadata": {
    "deletable": true,
    "editable": true
   },
   "source": [
    "Let's read images with PIL, plot them and crop them to the ImageNet size: `224x224`."
   ]
  },
  {
   "cell_type": "code",
   "execution_count": null,
   "metadata": {
    "collapsed": true,
    "deletable": true,
    "editable": true
   },
   "outputs": [],
   "source": [
    "def read_image_from_file(filename):\n",
    "    img = Image.open(filename)\n",
    "    return img\n",
    "def read_image_from_ioreader(image_request):\n",
    "    img = Image.open(BytesIO(image_request.read())).convert('RGB')\n",
    "    return img\n",
    "def read_image_from_request_base64(image_base64):\n",
    "    img = Image.open(BytesIO(base64.b64decode(image_base64)))\n",
    "    return img\n",
    "def read_image_from_url(url):\n",
    "    filename = urlretrieve(url)[0]\n",
    "    return read_image_from_file(filename)"
   ]
  },
  {
   "cell_type": "code",
   "execution_count": null,
   "metadata": {
    "collapsed": true,
    "deletable": true,
    "editable": true
   },
   "outputs": [],
   "source": [
    "def plot_image(img):\n",
    "    plt.imshow(img)\n",
    "    plt.axis('off')\n",
    "    plt.show()"
   ]
  },
  {
   "cell_type": "code",
   "execution_count": null,
   "metadata": {
    "collapsed": false,
    "deletable": true,
    "editable": true
   },
   "outputs": [],
   "source": [
    "imagepath = 'neko.jpg'\n",
    "img = read_image_from_file(imagepath)\n",
    "plot_image(img)"
   ]
  },
  {
   "cell_type": "code",
   "execution_count": null,
   "metadata": {
    "collapsed": false,
    "deletable": true,
    "editable": true
   },
   "outputs": [],
   "source": [
    "imagefile = open(imagepath, 'rb')\n",
    "print(type(imagefile))\n",
    "img = read_image_from_ioreader(imagefile)\n",
    "plot_image(img)"
   ]
  },
  {
   "cell_type": "code",
   "execution_count": null,
   "metadata": {
    "collapsed": false,
    "deletable": true,
    "editable": true
   },
   "outputs": [],
   "source": [
    "imagefile = open(imagepath, 'rb')\n",
    "image_base64 = base64.b64encode(imagefile.read())\n",
    "print(\"String of %d characters\" % len(image_base64))\n",
    "img = read_image_from_request_base64(image_base64)\n",
    "plot_image(img)"
   ]
  },
  {
   "cell_type": "code",
   "execution_count": null,
   "metadata": {
    "collapsed": false,
    "deletable": true,
    "editable": true
   },
   "outputs": [],
   "source": [
    "imageurl = 'https://pbs.twimg.com/profile_images/269279233/llama270977_smiling_llama_400x400.jpg'\n",
    "img = read_image_from_url(imageurl)\n",
    "plot_image(img)"
   ]
  },
  {
   "cell_type": "markdown",
   "metadata": {
    "deletable": true,
    "editable": true
   },
   "source": [
    "Once we have the image, the model file and the sysntets, the next step is to load the model and perform a prediction."
   ]
  },
  {
   "cell_type": "code",
   "execution_count": null,
   "metadata": {
    "collapsed": false,
    "deletable": true,
    "editable": true
   },
   "outputs": [],
   "source": [
    "%%time\n",
    "z = load_model(model_name)"
   ]
  },
  {
   "cell_type": "code",
   "execution_count": null,
   "metadata": {
    "collapsed": true,
    "deletable": true,
    "editable": true
   },
   "outputs": [],
   "source": [
    "def predict(model, image, labels, number_results = 5):\n",
    "    #Crop and center the image\n",
    "    img = ImageOps.fit(image, (224, 224), Image.ANTIALIAS)\n",
    "    #Transform the image for CNTK format\n",
    "    img = np.array(img, dtype=np.float32)\n",
    "    img = np.ascontiguousarray(np.transpose(img, (2, 0, 1)))\n",
    "    # Use last layer to make prediction\n",
    "    z_out = combine([model.outputs[3].owner])\n",
    "    result = np.squeeze(z_out.eval({z_out.arguments[0]:[img]}))\n",
    "    # Sort probabilities \n",
    "    prob_idx = np.argsort(result)[::-1][:number_results]\n",
    "    pred = [labels[i] for i in prob_idx]\n",
    "    return pred\n",
    " "
   ]
  },
  {
   "cell_type": "code",
   "execution_count": null,
   "metadata": {
    "collapsed": false,
    "deletable": true,
    "editable": true
   },
   "outputs": [],
   "source": [
    "resp = predict(z, img, labels, 5)\n",
    "print(resp)\n",
    "resp = predict(z, img2, labels, 5)\n",
    "print(resp)\n",
    "resp = predict(z, read_image_from_url('http://www.awf.org/sites/default/files/media/gallery/wildlife/Hippo/Hipp_joe.jpg'), labels, 5)\n",
    "print(resp)"
   ]
  },
  {
   "cell_type": "markdown",
   "metadata": {
    "collapsed": true,
    "deletable": true,
    "editable": true
   },
   "source": [
    "## Set up Flask API"
   ]
  },
  {
   "cell_type": "code",
   "execution_count": 17,
   "metadata": {
    "collapsed": false,
    "deletable": true,
    "editable": true
   },
   "outputs": [
    {
     "name": "stdout",
     "output_type": "stream",
     "text": [
      "ERROR: You should start the flask server!\n",
      "To do it run 'python api.py' inside a cntk environment\n"
     ]
    }
   ],
   "source": [
    "headers = {'Content-type':'application/json'}\n",
    "data = {\"param\":\"1\"}\n",
    "try:\n",
    "    res = requests.post('http://127.0.0.1:5000/api/v1/classify_image', data=json.dumps(data), headers=headers)\n",
    "    print(res.content)\n",
    "except Exception:\n",
    "    print(\"ERROR: You should start the flask server!\")\n",
    "    print(\"To do it run 'python api.py' inside a cntk environment\")"
   ]
  },
  {
   "cell_type": "code",
   "execution_count": 15,
   "metadata": {
    "collapsed": true,
    "deletable": true,
    "editable": true
   },
   "outputs": [],
   "source": [
    "image_request = open(imagepath, 'rb')\n",
    "files = {'image': image_request}"
   ]
  },
  {
   "cell_type": "code",
   "execution_count": null,
   "metadata": {
    "collapsed": false,
    "deletable": true,
    "editable": true
   },
   "outputs": [],
   "source": [
    "%%time\n",
    "res = requests.post('http://127.0.0.1:5000/api/v1/classify_image', files=files).json()\n",
    "print(res['message'])"
   ]
  },
  {
   "cell_type": "markdown",
   "metadata": {},
   "source": [
    "## Configure gunicorn\n",
    "\n",
    "In this tutorial it is explained [how to set up gunicorn with flask and nigx](https://www.digitalocean.com/community/tutorials/how-to-serve-flask-applications-with-gunicorn-and-nginx-on-ubuntu-14-04).\n",
    "\n",
    "Make sure that you install gunicorn inside the `cntk` environment: `pip install gunicorn`. The executable will be available at `/anaconda/envs/cntk/bin/gunicorn`.  \n",
    "\n",
    "After creating the file [wsgi.py](./wsgi.py), you can start up gunicorn with:\n",
    "```\n",
    "/anaconda/envs/cntk/bin/gunicorn --bind 0.0.0.0:8008 wsgi:app\n",
    "```\n",
    "You have to get something like this:\n",
    "```\n",
    "[2017-03-18 15:40:54 +0000] [35940] [INFO] Starting gunicorn 19.7.0\n",
    "[2017-03-18 15:40:54 +0000] [35940] [INFO] Listening at: http://0.0.0.0:8008 (35940)\n",
    "[2017-03-18 15:40:54 +0000] [35940] [INFO] Using worker: sync\n",
    "[2017-03-18 15:40:54 +0000] [35943] [INFO] Booting worker with pid: 35943\n",
    "```\n",
    "Once gunicorn is up, you can test that the endpoint is working. In your browser you can put `http://the-name-of-your-server:8008/`. You should see something like this. \n",
    "\n",
    "*NOTE: Make sure that you open the ports of your server. In case you are in an Azure machine, you have to go to your Network security group, then Inbound security rules and then add a new rule with the port 8008.* \n"
   ]
  },
  {
   "cell_type": "code",
   "execution_count": 56,
   "metadata": {
    "collapsed": false
   },
   "outputs": [
    {
     "data": {
      "text/html": [
       "<!DOCTYPE html> <html lang=\"en\">\n",
       "<html>\n",
       "<head>\n",
       "    <link rel=\"stylesheet\" type=\"text/css\" href=\"http://fonts.googleapis.com/css?family=Fjalla One\">\n",
       "    <title>CNTK API</title>\n",
       "    <style>\n",
       "        .main{\n",
       "            font-family: 'Fjalla One', serif; \n",
       "            text-align: center;\n",
       "        }\n",
       "\t</style>\n",
       "</head>\n",
       "<body>\n",
       "    <div class=\"main\">\n",
       "\t<h1>The CNTK API works</h1>\n",
       "\t<h2>Auto high 5!</h2>\n",
       "    <p align=\"center\">\n",
       "\t<img src=\"https://media.giphy.com/media/isPC1rocFebIc/giphy.gif\">\n",
       " \t<!-- <img src=\"bender.gif\"> -->\n",
       "    </p>\n",
       "    </div>\n",
       "</body>\n",
       "</html>\n",
       "\n"
      ],
      "text/plain": [
       "<IPython.core.display.HTML object>"
      ]
     },
     "execution_count": 56,
     "metadata": {},
     "output_type": "execute_result"
    }
   ],
   "source": [
    "server_name = 'http://the-name-of-your-server'\n",
    "server_name = 'http://migonzacpulinuxvm.southcentralus.cloudapp.azure.com'\n",
    "port = 8008\n",
    "complete_url = '{}:{}/'.format(server_name, port)\n",
    "#print(\"Making a request to: {}\".format(complete_url))\n",
    "res = requests.get(complete_url)\n",
    "display(HTML(res.text))"
   ]
  },
  {
   "cell_type": "markdown",
   "metadata": {},
   "source": [
    "## Configure Nginx\n",
    "\n",
    "You need to install nginx and some other libraries: `sudo apt-get install nginx upstart -y`\n",
    "\n",
    "The first step is to modify `cntk_api.conf` and copy it to `/etc/init`.\n",
    "\n",
    "```\n",
    "# (2 Workers * CPU Cores) + 1\n",
    "# ---------------------------\n",
    "# For 1 core  -> (2*1)+1 = 3\n",
    "# For 2 cores -> (2*2)+1 = 5\n",
    "# For 4 cores -> (2*4)+1 = 9\n",
    "```\n",
    "You can specify the amount of workers by passing the argument --workers=[n]."
   ]
  },
  {
   "cell_type": "code",
   "execution_count": 60,
   "metadata": {
    "collapsed": false
   },
   "outputs": [],
   "source": [
    "%%bash \n",
    "sudo cp cntk_api.conf /etc/init"
   ]
  },
  {
   "cell_type": "code",
   "execution_count": 61,
   "metadata": {
    "collapsed": true
   },
   "outputs": [],
   "source": [
    "%%bash\n",
    "sudo cp cntk_api /etc/nginx/sites-available/\n",
    "sudo ln -s /etc/nginx/sites-available/cntk_api /etc/nginx/sites-enabled"
   ]
  }
 ],
 "metadata": {
  "kernelspec": {
   "display_name": "cntk-py35",
   "language": "python",
   "name": "cntk-py35"
  },
  "language_info": {
   "codemirror_mode": {
    "name": "ipython",
    "version": 3
   },
   "file_extension": ".py",
   "mimetype": "text/x-python",
   "name": "python",
   "nbconvert_exporter": "python",
   "pygments_lexer": "ipython3",
   "version": "3.5.2"
  }
 },
 "nbformat": 4,
 "nbformat_minor": 0
}

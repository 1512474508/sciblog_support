{
 "cells": [
  {
   "cell_type": "markdown",
   "metadata": {},
   "source": [
    "# Introduction to Natural Language Processing with fastText\n",
    "In this notebook we will discuss what is Natural Language Processing (NLP) and how to easily implement several projects using the library [fastText](https://github.com/facebookresearch/fastText)."
   ]
  },
  {
   "cell_type": "code",
   "execution_count": 2,
   "metadata": {
    "collapsed": false
   },
   "outputs": [
    {
     "name": "stdout",
     "output_type": "stream",
     "text": [
      "3.5.2 |Anaconda custom (64-bit)| (default, Jul  2 2016, 17:53:06) \n",
      "[GCC 4.4.7 20120313 (Red Hat 4.4.7-1)]\n"
     ]
    }
   ],
   "source": [
    "#Load all libraries\n",
    "import os,sys  \n",
    "import pandas as pd\n",
    "import numpy as np\n",
    "import fasttext\n",
    "\n",
    "print(sys.version)"
   ]
  },
  {
   "cell_type": "markdown",
   "metadata": {},
   "source": [
    "## Text classification\n",
    "The first task will be to perform text classification dataset DBPedia. "
   ]
  },
  {
   "cell_type": "code",
   "execution_count": 25,
   "metadata": {
    "collapsed": false
   },
   "outputs": [
    {
     "data": {
      "text/html": [
       "<div>\n",
       "<table border=\"1\" class=\"dataframe\">\n",
       "  <thead>\n",
       "    <tr style=\"text-align: right;\">\n",
       "      <th></th>\n",
       "      <th>class</th>\n",
       "      <th>name</th>\n",
       "      <th>description</th>\n",
       "      <th>class_name</th>\n",
       "    </tr>\n",
       "  </thead>\n",
       "  <tbody>\n",
       "    <tr>\n",
       "      <th>0</th>\n",
       "      <td>1</td>\n",
       "      <td>E. D. Abbott Ltd</td>\n",
       "      <td>Abbott of Farnham E D Abbott Limited was a Br...</td>\n",
       "      <td>Company</td>\n",
       "    </tr>\n",
       "    <tr>\n",
       "      <th>1</th>\n",
       "      <td>1</td>\n",
       "      <td>Schwan-Stabilo</td>\n",
       "      <td>Schwan-STABILO is a German maker of pens for ...</td>\n",
       "      <td>Company</td>\n",
       "    </tr>\n",
       "    <tr>\n",
       "      <th>2</th>\n",
       "      <td>1</td>\n",
       "      <td>Q-workshop</td>\n",
       "      <td>Q-workshop is a Polish company located in Poz...</td>\n",
       "      <td>Company</td>\n",
       "    </tr>\n",
       "    <tr>\n",
       "      <th>3</th>\n",
       "      <td>1</td>\n",
       "      <td>Marvell Software Solutions Israel</td>\n",
       "      <td>Marvell Software Solutions Israel known as RA...</td>\n",
       "      <td>Company</td>\n",
       "    </tr>\n",
       "    <tr>\n",
       "      <th>4</th>\n",
       "      <td>1</td>\n",
       "      <td>Bergan Mercy Medical Center</td>\n",
       "      <td>Bergan Mercy Medical Center is a hospital loc...</td>\n",
       "      <td>Company</td>\n",
       "    </tr>\n",
       "  </tbody>\n",
       "</table>\n",
       "</div>"
      ],
      "text/plain": [
       "   class                               name  \\\n",
       "0      1                   E. D. Abbott Ltd   \n",
       "1      1                     Schwan-Stabilo   \n",
       "2      1                         Q-workshop   \n",
       "3      1  Marvell Software Solutions Israel   \n",
       "4      1        Bergan Mercy Medical Center   \n",
       "\n",
       "                                         description class_name  \n",
       "0   Abbott of Farnham E D Abbott Limited was a Br...    Company  \n",
       "1   Schwan-STABILO is a German maker of pens for ...    Company  \n",
       "2   Q-workshop is a Polish company located in Poz...    Company  \n",
       "3   Marvell Software Solutions Israel known as RA...    Company  \n",
       "4   Bergan Mercy Medical Center is a hospital loc...    Company  "
      ]
     },
     "execution_count": 25,
     "metadata": {},
     "output_type": "execute_result"
    }
   ],
   "source": [
    "#Load data\n",
    "train_file = 'dbpedia_train.csv'\n",
    "df = pd.read_csv(train_file, header=None, names=['class','name','description'])\n",
    "class_dict={\n",
    "1:'Company',\n",
    "2:'EducationalInstitution',\n",
    "3:'Artist',\n",
    "4:'Athlete',\n",
    "5:'OfficeHolder',\n",
    "6:'MeanOfTransportation',\n",
    "7:'Building',\n",
    "8:'NaturalPlace',\n",
    "9:'Village',\n",
    "10:'Animal',\n",
    "11:'Plant',\n",
    "12:'Album',\n",
    "13:'Film',\n",
    "14:'WrittenWork'\n",
    "}\n",
    "df['class_name'] = df['class'].map(class_dict)\n",
    "df.head()"
   ]
  },
  {
   "cell_type": "code",
   "execution_count": 24,
   "metadata": {
    "collapsed": false
   },
   "outputs": [
    {
     "data": {
      "text/html": [
       "<div>\n",
       "<table border=\"1\" class=\"dataframe\">\n",
       "  <thead>\n",
       "    <tr>\n",
       "      <th>class</th>\n",
       "      <th colspan=\"4\" halign=\"left\">1</th>\n",
       "      <th colspan=\"4\" halign=\"left\">2</th>\n",
       "      <th colspan=\"2\" halign=\"left\">3</th>\n",
       "      <th>...</th>\n",
       "      <th colspan=\"2\" halign=\"left\">12</th>\n",
       "      <th colspan=\"4\" halign=\"left\">13</th>\n",
       "      <th colspan=\"4\" halign=\"left\">14</th>\n",
       "    </tr>\n",
       "    <tr>\n",
       "      <th></th>\n",
       "      <th>count</th>\n",
       "      <th>unique</th>\n",
       "      <th>top</th>\n",
       "      <th>freq</th>\n",
       "      <th>count</th>\n",
       "      <th>unique</th>\n",
       "      <th>top</th>\n",
       "      <th>freq</th>\n",
       "      <th>count</th>\n",
       "      <th>unique</th>\n",
       "      <th>...</th>\n",
       "      <th>top</th>\n",
       "      <th>freq</th>\n",
       "      <th>count</th>\n",
       "      <th>unique</th>\n",
       "      <th>top</th>\n",
       "      <th>freq</th>\n",
       "      <th>count</th>\n",
       "      <th>unique</th>\n",
       "      <th>top</th>\n",
       "      <th>freq</th>\n",
       "    </tr>\n",
       "  </thead>\n",
       "  <tbody>\n",
       "    <tr>\n",
       "      <th>class_name</th>\n",
       "      <td>40000</td>\n",
       "      <td>1</td>\n",
       "      <td>Company</td>\n",
       "      <td>40000</td>\n",
       "      <td>40000</td>\n",
       "      <td>1</td>\n",
       "      <td>EducationalInstitution</td>\n",
       "      <td>40000</td>\n",
       "      <td>40000</td>\n",
       "      <td>1</td>\n",
       "      <td>...</td>\n",
       "      <td>Album</td>\n",
       "      <td>40000</td>\n",
       "      <td>40000</td>\n",
       "      <td>1</td>\n",
       "      <td>Film</td>\n",
       "      <td>40000</td>\n",
       "      <td>40000</td>\n",
       "      <td>1</td>\n",
       "      <td>WrittenWork</td>\n",
       "      <td>40000</td>\n",
       "    </tr>\n",
       "    <tr>\n",
       "      <th>description</th>\n",
       "      <td>40000</td>\n",
       "      <td>39996</td>\n",
       "      <td>The Spanish Royal Society of Chemistry (RSEQ)...</td>\n",
       "      <td>2</td>\n",
       "      <td>40000</td>\n",
       "      <td>39992</td>\n",
       "      <td>R.B. Govt. High School (Bengali: রামদেও বাজলা...</td>\n",
       "      <td>2</td>\n",
       "      <td>40000</td>\n",
       "      <td>40000</td>\n",
       "      <td>...</td>\n",
       "      <td>Before Smile Empty Soul became Smile Empty So...</td>\n",
       "      <td>2</td>\n",
       "      <td>40000</td>\n",
       "      <td>40000</td>\n",
       "      <td>Vagabond (French: Sans toit ni loi without ro...</td>\n",
       "      <td>1</td>\n",
       "      <td>40000</td>\n",
       "      <td>39984</td>\n",
       "      <td>Tom Clancy's Net Force Explorers or Net Force...</td>\n",
       "      <td>15</td>\n",
       "    </tr>\n",
       "    <tr>\n",
       "      <th>name</th>\n",
       "      <td>40000</td>\n",
       "      <td>40000</td>\n",
       "      <td>Blue Arrow</td>\n",
       "      <td>1</td>\n",
       "      <td>40000</td>\n",
       "      <td>40000</td>\n",
       "      <td>Gavar Special School</td>\n",
       "      <td>1</td>\n",
       "      <td>40000</td>\n",
       "      <td>40000</td>\n",
       "      <td>...</td>\n",
       "      <td>2nd (The Rasmus EP)</td>\n",
       "      <td>1</td>\n",
       "      <td>40000</td>\n",
       "      <td>40000</td>\n",
       "      <td>Eye of the Needle (film)</td>\n",
       "      <td>1</td>\n",
       "      <td>40000</td>\n",
       "      <td>40000</td>\n",
       "      <td>Er ist wieder da</td>\n",
       "      <td>1</td>\n",
       "    </tr>\n",
       "  </tbody>\n",
       "</table>\n",
       "<p>3 rows × 56 columns</p>\n",
       "</div>"
      ],
      "text/plain": [
       "class           1                                                             \\\n",
       "             count unique                                                top   \n",
       "class_name   40000      1                                            Company   \n",
       "description  40000  39996   The Spanish Royal Society of Chemistry (RSEQ)...   \n",
       "name         40000  40000                                         Blue Arrow   \n",
       "\n",
       "class                  2          \\\n",
       "              freq  count unique   \n",
       "class_name   40000  40000      1   \n",
       "description      2  40000  39992   \n",
       "name             1  40000  40000   \n",
       "\n",
       "class                                                                     3   \\\n",
       "                                                           top   freq  count   \n",
       "class_name                              EducationalInstitution  40000  40000   \n",
       "description   R.B. Govt. High School (Bengali: রামদেও বাজলা...      2  40000   \n",
       "name                                      Gavar Special School      1  40000   \n",
       "\n",
       "class               ...                                                   12  \\\n",
       "            unique  ...                                                  top   \n",
       "class_name       1  ...                                                Album   \n",
       "description  40000  ...     Before Smile Empty Soul became Smile Empty So...   \n",
       "name         40000  ...                                  2nd (The Rasmus EP)   \n",
       "\n",
       "class                  13         \\\n",
       "              freq  count unique   \n",
       "class_name   40000  40000      1   \n",
       "description      2  40000  40000   \n",
       "name             1  40000  40000   \n",
       "\n",
       "class                                                                     14  \\\n",
       "                                                           top   freq  count   \n",
       "class_name                                                Film  40000  40000   \n",
       "description   Vagabond (French: Sans toit ni loi without ro...      1  40000   \n",
       "name                                  Eye of the Needle (film)      1  40000   \n",
       "\n",
       "class                                                                         \n",
       "            unique                                                top   freq  \n",
       "class_name       1                                        WrittenWork  40000  \n",
       "description  39984   Tom Clancy's Net Force Explorers or Net Force...     15  \n",
       "name         40000                                   Er ist wieder da      1  \n",
       "\n",
       "[3 rows x 56 columns]"
      ]
     },
     "execution_count": 24,
     "metadata": {},
     "output_type": "execute_result"
    }
   ],
   "source": [
    "#df.describe().transpose()\n",
    "desc = df.groupby('class')\n",
    "desc.describe().transpose()"
   ]
  },
  {
   "cell_type": "code",
   "execution_count": 33,
   "metadata": {
    "collapsed": false
   },
   "outputs": [
    {
     "name": "stdout",
     "output_type": "stream",
     "text": [
      "CPU times: user 1min 28s, sys: 1.1 s, total: 1min 29s\n",
      "Wall time: 20.3 s\n"
     ]
    }
   ],
   "source": [
    "%%time\n",
    "# Train a classifier\n",
    "output_file = 'dp_model'\n",
    "classifier = fasttext.supervised('data/dbpedia.train', output_file, label_prefix='__label__')"
   ]
  },
  {
   "cell_type": "code",
   "execution_count": 34,
   "metadata": {
    "collapsed": false
   },
   "outputs": [
    {
     "name": "stdout",
     "output_type": "stream",
     "text": [
      "P@1: 0.9834571428571428\n",
      "R@1: 0.9834571428571428\n",
      "Number of examples: 70000\n",
      "CPU times: user 580 ms, sys: 12 ms, total: 592 ms\n",
      "Wall time: 591 ms\n"
     ]
    }
   ],
   "source": [
    "%%time\n",
    "# Evaluate classifier\n",
    "test_file = 'data/dbpedia.test'\n",
    "result = classifier.test(test_file)\n",
    "print('P@1:', result.precision)\n",
    "print('R@1:', result.recall)\n",
    "print ('Number of examples:', result.nexamples)"
   ]
  },
  {
   "cell_type": "code",
   "execution_count": 38,
   "metadata": {
    "collapsed": false
   },
   "outputs": [
    {
     "name": "stdout",
     "output_type": "stream",
     "text": [
      "[['3']]\n"
     ]
    }
   ],
   "source": [
    "sentence1 = ['Picasso was a famous painter born in Malaga, Spain. He revolutionized the art in the 20th century.']\n",
    "labels = classifier.predict(sentence1)\n",
    "print(labels)"
   ]
  }
 ],
 "metadata": {
  "anaconda-cloud": {},
  "kernelspec": {
   "display_name": "Python [default]",
   "language": "python",
   "name": "python3"
  },
  "language_info": {
   "codemirror_mode": {
    "name": "ipython",
    "version": 3
   },
   "file_extension": ".py",
   "mimetype": "text/x-python",
   "name": "python",
   "nbconvert_exporter": "python",
   "pygments_lexer": "ipython3",
   "version": "3.5.2"
  }
 },
 "nbformat": 4,
 "nbformat_minor": 1
}
